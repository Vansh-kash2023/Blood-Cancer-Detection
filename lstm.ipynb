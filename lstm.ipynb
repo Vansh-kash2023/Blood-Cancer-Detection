{
 "cells": [
  {
   "cell_type": "code",
   "execution_count": 44,
   "metadata": {},
   "outputs": [],
   "source": [
    "import numpy as np\n",
    "import pandas as pd\n",
    "import matplotlib.pyplot as plt\n",
    "import seaborn as sns\n",
    "from sklearn.model_selection import train_test_split\n",
    "from sklearn.metrics import roc_auc_score, roc_curve, confusion_matrix\n",
    "from tensorflow.keras.models import Model\n",
    "from tensorflow.keras.layers import LSTM, Dense, Dropout, BatchNormalization, GlobalAveragePooling2D, Reshape\n",
    "from tensorflow.keras.preprocessing.image import ImageDataGenerator\n",
    "from pathlib import Path\n",
    "import tensorflow as tf\n",
    "from tensorflow.keras.applications import MobileNetV2\n",
    "from tensorflow.keras.callbacks import EarlyStopping"
   ]
  },
  {
   "cell_type": "code",
   "execution_count": 45,
   "metadata": {},
   "outputs": [],
   "source": [
    "cancer_dir = Path(\"data/unhealthy\")\n",
    "normal_dir = Path(\"data/healthy\")\n",
    "\n",
    "classes = ['normal', 'cancer']"
   ]
  },
  {
   "cell_type": "code",
   "execution_count": 46,
   "metadata": {},
   "outputs": [
    {
     "name": "stdout",
     "output_type": "stream",
     "text": [
      "Found 6512 files. Labels: {'cancer': np.int64(5504), 'normal': np.int64(1008)}\n"
     ]
    }
   ],
   "source": [
    "filepaths, labels = [], []\n",
    "for dir_path, label in zip([normal_dir, cancer_dir], classes):\n",
    "    if not dir_path.exists():\n",
    "        print(f\"Directory not found: {dir_path}\")\n",
    "        continue\n",
    "    for file in dir_path.glob(\"*\"):\n",
    "        filepaths.append(str(file))\n",
    "        labels.append(label)\n",
    "\n",
    "print(f\"Found {len(filepaths)} files. Labels: {dict(pd.Series(labels).value_counts())}\")\n"
   ]
  },
  {
   "cell_type": "code",
   "execution_count": 47,
   "metadata": {},
   "outputs": [
    {
     "data": {
      "text/html": [
       "<div>\n",
       "<style scoped>\n",
       "    .dataframe tbody tr th:only-of-type {\n",
       "        vertical-align: middle;\n",
       "    }\n",
       "\n",
       "    .dataframe tbody tr th {\n",
       "        vertical-align: top;\n",
       "    }\n",
       "\n",
       "    .dataframe thead th {\n",
       "        text-align: right;\n",
       "    }\n",
       "</style>\n",
       "<table border=\"1\" class=\"dataframe\">\n",
       "  <thead>\n",
       "    <tr style=\"text-align: right;\">\n",
       "      <th></th>\n",
       "      <th>filepaths</th>\n",
       "      <th>labels</th>\n",
       "    </tr>\n",
       "  </thead>\n",
       "  <tbody>\n",
       "    <tr>\n",
       "      <th>0</th>\n",
       "      <td>data\\healthy\\WBC-Benign-001.jpg</td>\n",
       "      <td>normal</td>\n",
       "    </tr>\n",
       "    <tr>\n",
       "      <th>1</th>\n",
       "      <td>data\\healthy\\WBC-Benign-002.jpg</td>\n",
       "      <td>normal</td>\n",
       "    </tr>\n",
       "    <tr>\n",
       "      <th>2</th>\n",
       "      <td>data\\healthy\\WBC-Benign-003.jpg</td>\n",
       "      <td>normal</td>\n",
       "    </tr>\n",
       "    <tr>\n",
       "      <th>3</th>\n",
       "      <td>data\\healthy\\WBC-Benign-004.jpg</td>\n",
       "      <td>normal</td>\n",
       "    </tr>\n",
       "    <tr>\n",
       "      <th>4</th>\n",
       "      <td>data\\healthy\\WBC-Benign-005.jpg</td>\n",
       "      <td>normal</td>\n",
       "    </tr>\n",
       "    <tr>\n",
       "      <th>...</th>\n",
       "      <td>...</td>\n",
       "      <td>...</td>\n",
       "    </tr>\n",
       "    <tr>\n",
       "      <th>6507</th>\n",
       "      <td>data\\unhealthy\\WBC-unhealthy_995.jpg</td>\n",
       "      <td>cancer</td>\n",
       "    </tr>\n",
       "    <tr>\n",
       "      <th>6508</th>\n",
       "      <td>data\\unhealthy\\WBC-unhealthy_996.jpg</td>\n",
       "      <td>cancer</td>\n",
       "    </tr>\n",
       "    <tr>\n",
       "      <th>6509</th>\n",
       "      <td>data\\unhealthy\\WBC-unhealthy_997.jpg</td>\n",
       "      <td>cancer</td>\n",
       "    </tr>\n",
       "    <tr>\n",
       "      <th>6510</th>\n",
       "      <td>data\\unhealthy\\WBC-unhealthy_998.jpg</td>\n",
       "      <td>cancer</td>\n",
       "    </tr>\n",
       "    <tr>\n",
       "      <th>6511</th>\n",
       "      <td>data\\unhealthy\\WBC-unhealthy_999.jpg</td>\n",
       "      <td>cancer</td>\n",
       "    </tr>\n",
       "  </tbody>\n",
       "</table>\n",
       "<p>6512 rows × 2 columns</p>\n",
       "</div>"
      ],
      "text/plain": [
       "                                 filepaths  labels\n",
       "0          data\\healthy\\WBC-Benign-001.jpg  normal\n",
       "1          data\\healthy\\WBC-Benign-002.jpg  normal\n",
       "2          data\\healthy\\WBC-Benign-003.jpg  normal\n",
       "3          data\\healthy\\WBC-Benign-004.jpg  normal\n",
       "4          data\\healthy\\WBC-Benign-005.jpg  normal\n",
       "...                                    ...     ...\n",
       "6507  data\\unhealthy\\WBC-unhealthy_995.jpg  cancer\n",
       "6508  data\\unhealthy\\WBC-unhealthy_996.jpg  cancer\n",
       "6509  data\\unhealthy\\WBC-unhealthy_997.jpg  cancer\n",
       "6510  data\\unhealthy\\WBC-unhealthy_998.jpg  cancer\n",
       "6511  data\\unhealthy\\WBC-unhealthy_999.jpg  cancer\n",
       "\n",
       "[6512 rows x 2 columns]"
      ]
     },
     "execution_count": 47,
     "metadata": {},
     "output_type": "execute_result"
    }
   ],
   "source": [
    "df = pd.DataFrame({'filepaths': filepaths, 'labels': labels})\n",
    "df"
   ]
  },
  {
   "cell_type": "code",
   "execution_count": 48,
   "metadata": {},
   "outputs": [
    {
     "name": "stdout",
     "output_type": "stream",
     "text": [
      "labels\n",
      "cancer    5504\n",
      "normal    1008\n",
      "Name: count, dtype: int64\n"
     ]
    },
    {
     "name": "stderr",
     "output_type": "stream",
     "text": [
      "C:\\Users\\vansh\\AppData\\Local\\Temp\\ipykernel_9696\\1931242662.py:4: FutureWarning: \n",
      "\n",
      "Passing `palette` without assigning `hue` is deprecated and will be removed in v0.14.0. Assign the `x` variable to `hue` and set `legend=False` for the same effect.\n",
      "\n",
      "  sns.countplot(data=df, x='labels', palette='viridis')\n"
     ]
    },
    {
     "data": {
      "image/png": "[encoded data removed]",
      "text/plain": [
       "<Figure size 800x600 with 1 Axes>"
      ]
     },
     "metadata": {},
     "output_type": "display_data"
    }
   ],
   "source": [
    "print(df['labels'].value_counts())\n",
    "plt.figure(figsize=(8, 6))\n",
    "sns.countplot(data=df, x='labels', palette='viridis')\n",
    "plt.title(\"Class Distribution\")\n",
    "plt.show()"
   ]
  },
  {
   "cell_type": "code",
   "execution_count": null,
   "metadata": {},
   "outputs": [],
   "source": [
    "plt.figure(figsize=(12, 8))\n",
    "sample_images = df.sample(8)\n",
    "for i, filepath in enumerate(sample_images['filepaths']):\n",
    "    img = tf.keras.utils.load_img(filepath, target_size=(128, 128))\n",
    "    plt.subplot(2, 4, i + 1)\n",
    "    plt.imshow(img)\n",
    "    plt.title(sample_images['labels'].iloc[i])\n",
    "    plt.axis('off')\n",
    "plt.suptitle(\"Sample Images from Dataset\")\n",
    "plt.tight_layout()\n",
    "plt.show()"
   ]
  },
  {
   "cell_type": "code",
   "execution_count": 49,
   "metadata": {},
   "outputs": [],
   "source": [
    "train_df, test_df = train_test_split(df, test_size=0.3, stratify=df['labels'], random_state=42)\n",
    "train_df, val_df = train_test_split(train_df, test_size=0.2, stratify=train_df['labels'], random_state=42)\n"
   ]
  },
  {
   "cell_type": "code",
   "execution_count": 50,
   "metadata": {},
   "outputs": [
    {
     "name": "stdout",
     "output_type": "stream",
     "text": [
      "Found 3646 validated image filenames belonging to 2 classes.\n",
      "Found 912 validated image filenames belonging to 2 classes.\n",
      "Found 1954 validated image filenames belonging to 2 classes.\n"
     ]
    }
   ],
   "source": [
    "image_gen = ImageDataGenerator(\n",
    "    preprocessing_function=tf.keras.applications.mobilenet_v2.preprocess_input,\n",
    "    rotation_range=15,\n",
    "    width_shift_range=0.1,\n",
    "    height_shift_range=0.1,\n",
    "    zoom_range=0.1,\n",
    "    horizontal_flip=True\n",
    ")\n",
    "\n",
    "train = image_gen.flow_from_dataframe(\n",
    "    dataframe=train_df, x_col=\"filepaths\", y_col=\"labels\",\n",
    "    target_size=(128, 128), class_mode=\"categorical\", batch_size=32, shuffle=True, workers=4)\n",
    "\n",
    "val = image_gen.flow_from_dataframe(\n",
    "    dataframe=val_df, x_col=\"filepaths\", y_col=\"labels\",\n",
    "    target_size=(128, 128), class_mode=\"categorical\", batch_size=32, shuffle=False, workers=4)\n",
    "\n",
    "test = image_gen.flow_from_dataframe(\n",
    "    dataframe=test_df, x_col=\"filepaths\", y_col=\"labels\",\n",
    "    target_size=(128, 128), class_mode=\"categorical\", batch_size=32, shuffle=False, workers=4)\n"
   ]
  },
  {
   "cell_type": "code",
   "execution_count": 51,
   "metadata": {},
   "outputs": [],
   "source": [
    "train_X, train_y = np.vstack([train[i][0] for i in range(len(train))]), np.vstack([train[i][1] for i in range(len(train))])\n",
    "val_X, val_y = np.vstack([val[i][0] for i in range(len(val))]), np.vstack([val[i][1] for i in range(len(val))])\n"
   ]
  },
  {
   "cell_type": "code",
   "execution_count": 52,
   "metadata": {},
   "outputs": [],
   "source": [
    "\n",
    "base_model = MobileNetV2(weights='imagenet', include_top=False, input_shape=(128, 128, 3))\n",
    "base_model.trainable = False  \n",
    "\n",
    "x = base_model.output\n",
    "x = GlobalAveragePooling2D()(x)\n",
    "\n",
    "x = Reshape((1, -1))(x)  \n",
    "\n",
    "x = LSTM(64)(x) \n",
    "x = Dropout(0.2)(x)  \n",
    "x = Dense(128, activation='relu')(x)\n",
    "output = Dense(2, activation='softmax')(x) \n",
    "\n",
    "model = Model(inputs=base_model.input, outputs=output)\n",
    "model.compile(optimizer='adam', loss='categorical_crossentropy', metrics=['accuracy'])\n"
   ]
  },
  {
   "cell_type": "code",
   "execution_count": 53,
   "metadata": {},
   "outputs": [],
   "source": [
    "early_stopping = EarlyStopping(monitor='val_loss', patience=3, restore_best_weights=True)"
   ]
  },
  {
   "cell_type": "code",
   "execution_count": 54,
   "metadata": {},
   "outputs": [
    {
     "name": "stdout",
     "output_type": "stream",
     "text": [
      "Epoch 1/10\n",
      "\u001b[1m114/114\u001b[0m \u001b[32m━━━━━━━━━━━━━━━━━━━━\u001b[0m\u001b[37m\u001b[0m \u001b[1m42s\u001b[0m 320ms/step - accuracy: 0.8577 - loss: 0.3307 - val_accuracy: 0.9561 - val_loss: 0.1152\n",
      "Epoch 2/10\n",
      "\u001b[1m114/114\u001b[0m \u001b[32m━━━━━━━━━━━━━━━━━━━━\u001b[0m\u001b[37m\u001b[0m \u001b[1m39s\u001b[0m 342ms/step - accuracy: 0.9432 - loss: 0.1409 - val_accuracy: 0.9649 - val_loss: 0.0913\n",
      "Epoch 3/10\n",
      "\u001b[1m114/114\u001b[0m \u001b[32m━━━━━━━━━━━━━━━━━━━━\u001b[0m\u001b[37m\u001b[0m \u001b[1m35s\u001b[0m 306ms/step - accuracy: 0.9546 - loss: 0.1041 - val_accuracy: 0.9660 - val_loss: 0.0817\n",
      "Epoch 4/10\n",
      "\u001b[1m114/114\u001b[0m \u001b[32m━━━━━━━━━━━━━━━━━━━━\u001b[0m\u001b[37m\u001b[0m \u001b[1m32s\u001b[0m 285ms/step - accuracy: 0.9776 - loss: 0.0584 - val_accuracy: 0.9616 - val_loss: 0.0926\n",
      "Epoch 5/10\n",
      "\u001b[1m114/114\u001b[0m \u001b[32m━━━━━━━━━━━━━━━━━━━━\u001b[0m\u001b[37m\u001b[0m \u001b[1m34s\u001b[0m 297ms/step - accuracy: 0.9701 - loss: 0.0760 - val_accuracy: 0.9682 - val_loss: 0.0918\n",
      "Epoch 6/10\n",
      "\u001b[1m114/114\u001b[0m \u001b[32m━━━━━━━━━━━━━━━━━━━━\u001b[0m\u001b[37m\u001b[0m \u001b[1m33s\u001b[0m 285ms/step - accuracy: 0.9815 - loss: 0.0463 - val_accuracy: 0.9704 - val_loss: 0.0831\n"
     ]
    }
   ],
   "source": [
    "history = model.fit(\n",
    "    train_X, train_y,\n",
    "    validation_data=(val_X, val_y),\n",
    "    epochs=10,\n",
    "    batch_size=32,\n",
    "    callbacks=[early_stopping]\n",
    ")"
   ]
  },
  {
   "cell_type": "code",
   "execution_count": null,
   "metadata": {},
   "outputs": [],
   "source": [
    "plt.figure(figsize=(8, 6))\n",
    "plt.plot(history.history['accuracy'], label='Training Accuracy')\n",
    "plt.plot(history.history['val_accuracy'], label='Validation Accuracy')\n",
    "plt.title('Model Accuracy')\n",
    "plt.xlabel('Epochs')\n",
    "plt.ylabel('Accuracy')\n",
    "plt.legend()\n",
    "plt.grid(True)\n",
    "plt.show()"
   ]
  },
  {
   "cell_type": "code",
   "execution_count": null,
   "metadata": {},
   "outputs": [],
   "source": [
    "plt.figure(figsize=(8, 6))\n",
    "plt.plot(history.history['loss'], label='Training Loss')\n",
    "plt.plot(history.history['val_loss'], label='Validation Loss')\n",
    "plt.title('Model Loss')\n",
    "plt.xlabel('Epochs')\n",
    "plt.ylabel('Loss')\n",
    "plt.legend()\n",
    "plt.grid(True)\n",
    "plt.show()"
   ]
  },
  {
   "cell_type": "code",
   "execution_count": 55,
   "metadata": {},
   "outputs": [
    {
     "name": "stdout",
     "output_type": "stream",
     "text": [
      "\u001b[1m62/62\u001b[0m \u001b[32m━━━━━━━━━━━━━━━━━━━━\u001b[0m\u001b[37m\u001b[0m \u001b[1m15s\u001b[0m 236ms/step - accuracy: 0.9509 - loss: 0.1247\n",
      "Test Accuracy: 0.96\n"
     ]
    }
   ],
   "source": [
    "test_X, test_y = np.vstack([test[i][0] for i in range(len(test))]), np.vstack([test[i][1] for i in range(len(test))])\n",
    "test_loss, test_accuracy = model.evaluate(test_X, test_y)\n",
    "print(f\"Test Accuracy: {test_accuracy:.2f}\")"
   ]
  },
  {
   "cell_type": "code",
   "execution_count": 56,
   "metadata": {},
   "outputs": [
    {
     "name": "stdout",
     "output_type": "stream",
     "text": [
      "\u001b[1m62/62\u001b[0m \u001b[32m━━━━━━━━━━━━━━━━━━━━\u001b[0m\u001b[37m\u001b[0m \u001b[1m18s\u001b[0m 260ms/step\n"
     ]
    },
    {
     "data": {
      "image/png": "[encoded data removed]",
      "text/plain": [
       "<Figure size 800x600 with 1 Axes>"
      ]
     },
     "metadata": {},
     "output_type": "display_data"
    }
   ],
   "source": [
    "y_pred_probs = model.predict(test_X)\n",
    "y_pred = np.argmax(y_pred_probs, axis=-1)\n",
    "y_true = np.argmax(test_y, axis=-1)\n",
    "\n",
    "fpr, tpr, thresholds = roc_curve(y_true, y_pred_probs[:, 1])\n",
    "roc_auc = roc_auc_score(y_true, y_pred_probs[:, 1])\n",
    "\n",
    "plt.figure(figsize=(8, 6))\n",
    "plt.plot(fpr, tpr, color='purple', label=f\"AUC = {roc_auc:.2f}\")\n",
    "plt.plot([0, 1], [0, 1], color='gray', linestyle='--')\n",
    "plt.xlabel('False Positive Rate')\n",
    "plt.ylabel('True Positive Rate')\n",
    "plt.title('ROC Curve')\n",
    "plt.legend(loc=\"lower right\")\n",
    "plt.show()"
   ]
  },
  {
   "cell_type": "code",
   "execution_count": 57,
   "metadata": {},
   "outputs": [
    {
     "data": {
      "image/png": "[encoded data removed]",
      "text/plain": [
       "<Figure size 640x480 with 2 Axes>"
      ]
     },
     "metadata": {},
     "output_type": "display_data"
    }
   ],
   "source": [
    "cm = confusion_matrix(y_true, y_pred)\n",
    "sns.heatmap(pd.DataFrame(cm, index=classes, columns=classes), annot=True, cmap=\"Purples\", fmt='d')\n",
    "plt.ylabel('Actual')\n",
    "plt.xlabel('Predicted')\n",
    "plt.show()"
   ]
  }
 ],
 "metadata": {
  "kernelspec": {
   "display_name": "venv",
   "language": "python",
   "name": "python3"
  },
  "language_info": {
   "codemirror_mode": {
    "name": "ipython",
    "version": 3
   },
   "file_extension": ".py",
   "mimetype": "text/x-python",
   "name": "python",
   "nbconvert_exporter": "python",
   "pygments_lexer": "ipython3",
   "version": "3.10.0"
  }
 },
 "nbformat": 4,
 "nbformat_minor": 2
}
